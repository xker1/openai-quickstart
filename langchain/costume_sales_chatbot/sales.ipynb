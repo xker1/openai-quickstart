{
 "cells": [
  {
   "cell_type": "markdown",
   "id": "69032b4b-b031-4020-beb0-e8dfd22b660e",
   "metadata": {},
   "source": [
    "# LangChain 实战：服装销售聊天机器人"
   ]
  },
  {
   "cell_type": "code",
   "execution_count": 25,
   "id": "efcee928-b9f4-4e4a-b9fb-f6cbee21b642",
   "metadata": {
    "ExecuteTime": {
     "end_time": "2024-07-25T13:59:13.531629Z",
     "start_time": "2024-07-25T13:59:13.522638Z"
    }
   },
   "outputs": [],
   "source": [
    "with open(\"real_costume_sales_data.txt\", encoding=\"utf-8\") as f:\n",
    "    real_estate_sales = f.read()"
   ]
  },
  {
   "cell_type": "markdown",
   "id": "a9119556-d2e3-4edf-be16-15837da156f1",
   "metadata": {},
   "source": [
    "### 使用 CharacterTextSplitter 来进行文本分割\n",
    "\n",
    "- 基于单字符来进行文本分割（separator）\n",
    "- 基于字符数来决定文本块长度（chunk_size）\n",
    "\n",
    "参考示例：\n",
    "\n",
    "```python\n",
    "from langchain.text_splitter import CharacterTextSplitter\n",
    "text_splitter = CharacterTextSplitter(        \n",
    "    separator = \"\\n\\n\",\n",
    "    chunk_size = 1000,\n",
    "    chunk_overlap  = 200,\n",
    "    length_function = len,\n",
    "    is_separator_regex = False,\n",
    ")\n",
    "```\n"
   ]
  },
  {
   "cell_type": "code",
   "execution_count": 26,
   "id": "dbe535b8-2bd8-4c31-91d7-eba8aa61b3ef",
   "metadata": {
    "ExecuteTime": {
     "end_time": "2024-07-25T13:59:23.393543Z",
     "start_time": "2024-07-25T13:59:22.843856Z"
    }
   },
   "outputs": [],
   "source": [
    "from langchain.text_splitter import CharacterTextSplitter"
   ]
  },
  {
   "cell_type": "code",
   "execution_count": 27,
   "id": "a4f30d9b-9fc6-4860-a497-0aa8220b9284",
   "metadata": {
    "ExecuteTime": {
     "end_time": "2024-07-24T08:52:40.081117Z",
     "start_time": "2024-07-24T08:52:40.074082Z"
    }
   },
   "outputs": [],
   "source": [
    "text_splitter = CharacterTextSplitter(        \n",
    "    separator = r'\\d+\\.',\n",
    "    chunk_size = 170,\n",
    "    chunk_overlap  = 0,\n",
    "    length_function = len,\n",
    "    is_separator_regex = True,\n",
    ")"
   ]
  },
  {
   "cell_type": "code",
   "execution_count": 28,
   "id": "530f3172-17a5-4924-ad17-284fbca422ae",
   "metadata": {
    "ExecuteTime": {
     "end_time": "2024-07-24T08:52:41.056308Z",
     "start_time": "2024-07-24T08:52:41.051308Z"
    }
   },
   "outputs": [],
   "source": [
    "docs = text_splitter.create_documents([real_estate_sales])"
   ]
  },
  {
   "cell_type": "code",
   "execution_count": 29,
   "id": "3956ec36-706e-4f43-88fc-d704f2984290",
   "metadata": {
    "ExecuteTime": {
     "end_time": "2024-07-24T08:52:42.574998Z",
     "start_time": "2024-07-24T08:52:42.563994Z"
    }
   },
   "outputs": [
    {
     "data": {
      "text/plain": [
       "Document(page_content='[顾客提问] 这件衣服质量怎么样？\\n[销售回答] 这是我们店里的畅销款，采用的是高级面料，不仅手感舒适，而且耐穿耐洗，很多顾客都回购了。\\n\\n\\\\d+\\\\.\\n[顾客提问] 这个价格有点贵，能便宜点吗？\\n[销售回答] 我们的定价是根据产品的质量和设计来的，确实物有所值。而且，投资一件好衣服，长远来看更经济，因为它的耐用性会让您穿得更久。')"
      ]
     },
     "execution_count": 29,
     "metadata": {},
     "output_type": "execute_result"
    }
   ],
   "source": [
    "docs[0]"
   ]
  },
  {
   "cell_type": "code",
   "execution_count": 30,
   "id": "73b2d47a-27ae-4cd4-a72a-3809b4c22bff",
   "metadata": {
    "ExecuteTime": {
     "end_time": "2024-07-24T08:52:44.183341Z",
     "start_time": "2024-07-24T08:52:44.172668Z"
    }
   },
   "outputs": [
    {
     "data": {
      "text/plain": [
       "170"
      ]
     },
     "execution_count": 30,
     "metadata": {},
     "output_type": "execute_result"
    }
   ],
   "source": [
    "len(docs)"
   ]
  },
  {
   "cell_type": "markdown",
   "id": "e4617858-ad9c-42eb-a4c3-6bfb7108cdd2",
   "metadata": {},
   "source": [
    "### 使用 Faiss 作为向量数据库，持久化存储房产销售 问答对（QA-Pair）"
   ]
  },
  {
   "cell_type": "code",
   "execution_count": 31,
   "id": "508c2ab2-e187-424f-a43c-ca3d3b1a0550",
   "metadata": {
    "ExecuteTime": {
     "end_time": "2024-07-24T08:53:27.485277Z",
     "start_time": "2024-07-24T08:53:21.432923Z"
    }
   },
   "outputs": [
    {
     "name": "stderr",
     "output_type": "stream",
     "text": [
      "D:\\000_application\\010_appList\\006_anaconda3\\envs\\langchain\\lib\\site-packages\\langchain_core\\_api\\deprecation.py:119: LangChainDeprecationWarning: The class `OpenAIEmbeddings` was deprecated in LangChain 0.0.9 and will be removed in 0.3.0. An updated version of the class exists in the langchain-openai package and should be used instead. To use it run `pip install -U langchain-openai` and import as `from langchain_openai import OpenAIEmbeddings`.\n",
      "  warn_deprecated(\n"
     ]
    }
   ],
   "source": [
    "from langchain.embeddings.openai import OpenAIEmbeddings\n",
    "from langchain.text_splitter import CharacterTextSplitter\n",
    "from langchain.vectorstores import FAISS\n",
    "\n",
    "db = FAISS.from_documents(docs, OpenAIEmbeddings())"
   ]
  },
  {
   "cell_type": "code",
   "execution_count": 32,
   "id": "250e0873-95e2-4372-98a5-68c0feb304bb",
   "metadata": {
    "ExecuteTime": {
     "end_time": "2024-07-24T08:54:01.617468Z",
     "start_time": "2024-07-24T08:54:01.609135Z"
    }
   },
   "outputs": [],
   "source": [
    "query = \"夏天买什么衣服\""
   ]
  },
  {
   "cell_type": "code",
   "execution_count": 33,
   "id": "0d18fcc6-c2be-434b-b8de-9648ac6f83f4",
   "metadata": {
    "ExecuteTime": {
     "end_time": "2024-07-24T08:54:05.068539Z",
     "start_time": "2024-07-24T08:54:04.214062Z"
    }
   },
   "outputs": [],
   "source": [
    "answer_list = db.similarity_search(query)"
   ]
  },
  {
   "cell_type": "code",
   "execution_count": 34,
   "id": "e689667e-7a45-40d6-9eae-4e52cbc7daab",
   "metadata": {
    "ExecuteTime": {
     "end_time": "2024-07-24T08:54:06.683275Z",
     "start_time": "2024-07-24T08:54:06.678275Z"
    }
   },
   "outputs": [
    {
     "name": "stdout",
     "output_type": "stream",
     "text": [
      "[顾客提问] 我想要一些适合夏天穿的衣服，有什么推荐？\n",
      "[销售回答] 夏天穿着以清凉舒适为主，我们有多款轻薄透气的衣服，比如亚麻衬衫、棉质T恤等，都非常适合夏日穿着。\n",
      "\n",
      "[顾客提问] 我想要一些适合夏季穿着的凉鞋。\n",
      "[销售回答] 我们有多款适合夏季穿着的凉鞋，包括凉拖、凉鞋等，让您在炎热的夏天也能保持清爽舒适。\n",
      "\n",
      "[顾客提问]这件衣服的面料是否适合夏季穿着？\n",
      "[销售回答]这件衣服的面料选用了轻薄透气的材质，非常适合夏季穿着。它能够帮助您调节体温，保持干爽舒适。同时，我们品牌也注重面料的防晒性能，确保您在户外活动时也能得到良好的保护。\n",
      "\n",
      "[顾客提问]这件衣服适合什么季节穿？\n",
      "[销售回答]这款衣服的设计非常贴心，它采用了轻薄透气的面料，适合春秋季节穿着。无论是单穿还是作为内搭，都能轻松应对多变的天气。而且，它的颜色和设计都非常经典百搭，即使到了冬季，搭配一件外套也能让您时尚过冬。所以，无论您是哪个季节来选购，它都是个不错的选择哦。\n",
      "\n"
     ]
    }
   ],
   "source": [
    "for ans in answer_list:\n",
    "    print(ans.page_content + \"\\n\")"
   ]
  },
  {
   "cell_type": "code",
   "execution_count": 35,
   "id": "a6cc47bf-1566-472f-84d2-a46bd634907c",
   "metadata": {
    "ExecuteTime": {
     "end_time": "2024-07-24T08:54:23.725796Z",
     "start_time": "2024-07-24T08:54:23.703283Z"
    }
   },
   "outputs": [],
   "source": [
    "db.save_local(\"real_estates_sale\")"
   ]
  },
  {
   "cell_type": "markdown",
   "id": "0d5323e5-03fa-4c1c-b896-3ccc28af1857",
   "metadata": {},
   "source": [
    "### 使用 retriever 从向量数据库中获取结果\n",
    "\n",
    "#### 使用参数 `k` 指定返回结果数量\n"
   ]
  },
  {
   "cell_type": "code",
   "execution_count": 36,
   "id": "17f051c9-8676-48d1-a9a4-e69b52630faf",
   "metadata": {
    "ExecuteTime": {
     "end_time": "2024-07-24T08:54:29.231141Z",
     "start_time": "2024-07-24T08:54:29.218137Z"
    }
   },
   "outputs": [],
   "source": [
    "# 实例化一个 TopK Retriever\n",
    "topK_retriever = db.as_retriever(search_kwargs={\"k\": 3})"
   ]
  },
  {
   "cell_type": "code",
   "execution_count": 37,
   "id": "e33024db-ca7b-4d68-9b0e-c31c15ded57d",
   "metadata": {
    "ExecuteTime": {
     "end_time": "2024-07-24T08:54:31.126868Z",
     "start_time": "2024-07-24T08:54:31.113359Z"
    }
   },
   "outputs": [
    {
     "data": {
      "text/plain": [
       "VectorStoreRetriever(tags=['FAISS', 'OpenAIEmbeddings'], vectorstore=<langchain_community.vectorstores.faiss.FAISS object at 0x0000024CA77AC3A0>, search_kwargs={'k': 3})"
      ]
     },
     "execution_count": 37,
     "metadata": {},
     "output_type": "execute_result"
    }
   ],
   "source": [
    "topK_retriever"
   ]
  },
  {
   "cell_type": "code",
   "execution_count": 38,
   "id": "7efb1414-859f-4818-bacd-e1e2edf34b95",
   "metadata": {
    "ExecuteTime": {
     "end_time": "2024-07-24T08:54:35.217138Z",
     "start_time": "2024-07-24T08:54:34.154004Z"
    }
   },
   "outputs": [
    {
     "name": "stderr",
     "output_type": "stream",
     "text": [
      "D:\\000_application\\010_appList\\006_anaconda3\\envs\\langchain\\lib\\site-packages\\langchain_core\\_api\\deprecation.py:119: LangChainDeprecationWarning: The method `BaseRetriever.get_relevant_documents` was deprecated in langchain-core 0.1.46 and will be removed in 0.3.0. Use invoke instead.\n",
      "  warn_deprecated(\n"
     ]
    },
    {
     "name": "stdout",
     "output_type": "stream",
     "text": [
      "[顾客提问] 我想要一些适合夏天穿的衣服，有什么推荐？\n",
      "[销售回答] 夏天穿着以清凉舒适为主，我们有多款轻薄透气的衣服，比如亚麻衬衫、棉质T恤等，都非常适合夏日穿着。\n",
      "\n",
      "[顾客提问] 我想要一些适合夏季穿着的凉鞋。\n",
      "[销售回答] 我们有多款适合夏季穿着的凉鞋，包括凉拖、凉鞋等，让您在炎热的夏天也能保持清爽舒适。\n",
      "\n",
      "[顾客提问]这件衣服的面料是否适合夏季穿着？\n",
      "[销售回答]这件衣服的面料选用了轻薄透气的材质，非常适合夏季穿着。它能够帮助您调节体温，保持干爽舒适。同时，我们品牌也注重面料的防晒性能，确保您在户外活动时也能得到良好的保护。\n",
      "\n"
     ]
    }
   ],
   "source": [
    "docs = topK_retriever.get_relevant_documents(query)\n",
    "for doc in docs:\n",
    "    print(doc.page_content + \"\\n\")"
   ]
  },
  {
   "cell_type": "code",
   "execution_count": 39,
   "id": "a3c4b62d-6f8f-461b-a4fb-41c8a404b831",
   "metadata": {
    "ExecuteTime": {
     "end_time": "2024-07-24T08:55:06.905110Z",
     "start_time": "2024-07-24T08:55:06.014595Z"
    }
   },
   "outputs": [],
   "source": [
    "docs = topK_retriever.get_relevant_documents(\"衣服太贵了，能不能便宜点？\")"
   ]
  },
  {
   "cell_type": "code",
   "execution_count": 40,
   "id": "04cca3d7-23d9-491f-8350-faeb19861dec",
   "metadata": {
    "ExecuteTime": {
     "end_time": "2024-07-24T08:55:07.845483Z",
     "start_time": "2024-07-24T08:55:07.831974Z"
    }
   },
   "outputs": [
    {
     "name": "stdout",
     "output_type": "stream",
     "text": [
      "[顾客提问] 我对这件衣服的价格有些犹豫，能不能给个折扣？\n",
      "[销售回答] 我们会定期举办促销活动，您可以关注我们的官方网站或者店铺，或者加入我们的会员享受专属折扣。\n",
      "\n",
      "[顾客提问] 我对这件衣服的价格有些担忧，能否提供更多优惠？\n",
      "[销售回答] 我们会定期推出促销活动，您可以关注我们的官方网站或者店铺，或者加入我们的会员享受专属优惠。\n",
      "\n",
      "\\d+\\.\n",
      "[顾客提问] 我想要一些适合旅行穿着的快干衣物。\n",
      "[销售回答] 我们有专为旅行设计的快干衣物，它们轻便易折叠，适合旅行中的穿着和清洗。\n",
      "\n",
      "[顾客提问] 这件衣服质量怎么样？\n",
      "[销售回答] 这是我们店里的畅销款，采用的是高级面料，不仅手感舒适，而且耐穿耐洗，很多顾客都回购了。\n",
      "\n",
      "\\d+\\.\n",
      "[顾客提问] 这个价格有点贵，能便宜点吗？\n",
      "[销售回答] 我们的定价是根据产品的质量和设计来的，确实物有所值。而且，投资一件好衣服，长远来看更经济，因为它的耐用性会让您穿得更久。\n",
      "\n"
     ]
    }
   ],
   "source": [
    "for doc in docs:\n",
    "    print(doc.page_content + \"\\n\")"
   ]
  },
  {
   "cell_type": "markdown",
   "id": "b335c9e5-bc01-4a47-916c-03bec0e7a839",
   "metadata": {},
   "source": [
    "#### 使用 similarity_score_threshold 设置阈值，提升结果的相关性质量"
   ]
  },
  {
   "cell_type": "code",
   "execution_count": 41,
   "id": "b1298956-6cf3-4a68-a3c2-a3149f64f156",
   "metadata": {
    "ExecuteTime": {
     "end_time": "2024-07-24T08:56:08.495290Z",
     "start_time": "2024-07-24T08:56:08.478481Z"
    }
   },
   "outputs": [],
   "source": [
    "# 实例化一个 similarity_score_threshold Retriever\n",
    "retriever = db.as_retriever(\n",
    "    search_type=\"similarity_score_threshold\",\n",
    "    search_kwargs={\"score_threshold\": 0.8}\n",
    ")"
   ]
  },
  {
   "cell_type": "code",
   "execution_count": 42,
   "id": "d61167de-72ed-4618-a2e1-5df04784a3bc",
   "metadata": {
    "ExecuteTime": {
     "end_time": "2024-07-24T08:56:10.547215Z",
     "start_time": "2024-07-24T08:56:09.758742Z"
    }
   },
   "outputs": [
    {
     "name": "stdout",
     "output_type": "stream",
     "text": [
      "[顾客提问] 我想要一些适合夏天穿的衣服，有什么推荐？\n",
      "[销售回答] 夏天穿着以清凉舒适为主，我们有多款轻薄透气的衣服，比如亚麻衬衫、棉质T恤等，都非常适合夏日穿着。\n",
      "\n",
      "[顾客提问] 我想要一些适合夏季穿着的凉鞋。\n",
      "[销售回答] 我们有多款适合夏季穿着的凉鞋，包括凉拖、凉鞋等，让您在炎热的夏天也能保持清爽舒适。\n",
      "\n",
      "[顾客提问]这件衣服的面料是否适合夏季穿着？\n",
      "[销售回答]这件衣服的面料选用了轻薄透气的材质，非常适合夏季穿着。它能够帮助您调节体温，保持干爽舒适。同时，我们品牌也注重面料的防晒性能，确保您在户外活动时也能得到良好的保护。\n",
      "\n"
     ]
    }
   ],
   "source": [
    "docs = retriever.get_relevant_documents(query)\n",
    "for doc in docs:\n",
    "    print(doc.page_content + \"\\n\")"
   ]
  },
  {
   "cell_type": "code",
   "execution_count": null,
   "id": "548d1b52-6fa2-46d6-9218-908db572f380",
   "metadata": {
    "ExecuteTime": {
     "end_time": "2024-07-24T08:56:17.913726Z",
     "start_time": "2024-07-24T08:56:17.908715Z"
    }
   },
   "outputs": [],
   "source": []
  },
  {
   "cell_type": "markdown",
   "id": "c31344ce-f952-4604-b700-fdbb34da1e28",
   "metadata": {},
   "source": [
    "### 提取向量数据库中的`销售回答`"
   ]
  },
  {
   "cell_type": "code",
   "execution_count": 43,
   "id": "25768463-da65-4762-978d-51c0c3a9c24b",
   "metadata": {
    "ExecuteTime": {
     "end_time": "2024-07-24T08:56:20.406928Z",
     "start_time": "2024-07-24T08:56:19.614554Z"
    }
   },
   "outputs": [],
   "source": [
    "docs = retriever.get_relevant_documents(query)"
   ]
  },
  {
   "cell_type": "code",
   "execution_count": 44,
   "id": "4838d3da-dca3-4c31-80da-cec75760a833",
   "metadata": {
    "ExecuteTime": {
     "end_time": "2024-07-24T08:56:21.383831Z",
     "start_time": "2024-07-24T08:56:21.366321Z"
    }
   },
   "outputs": [
    {
     "data": {
      "text/plain": [
       "'[顾客提问] 我想要一些适合夏天穿的衣服，有什么推荐？\\n[销售回答] 夏天穿着以清凉舒适为主，我们有多款轻薄透气的衣服，比如亚麻衬衫、棉质T恤等，都非常适合夏日穿着。'"
      ]
     },
     "execution_count": 44,
     "metadata": {},
     "output_type": "execute_result"
    }
   ],
   "source": [
    "docs[0].page_content"
   ]
  },
  {
   "cell_type": "code",
   "execution_count": 45,
   "id": "1ba30232-f468-4102-b70c-02c8b74da43d",
   "metadata": {
    "ExecuteTime": {
     "end_time": "2024-07-24T08:56:26.477193Z",
     "start_time": "2024-07-24T08:56:26.463653Z"
    }
   },
   "outputs": [
    {
     "data": {
      "text/plain": [
       "['[顾客提问] 我想要一些适合夏天穿的衣服，有什么推荐？\\n',\n",
       " '夏天穿着以清凉舒适为主，我们有多款轻薄透气的衣服，比如亚麻衬衫、棉质T恤等，都非常适合夏日穿着。']"
      ]
     },
     "execution_count": 45,
     "metadata": {},
     "output_type": "execute_result"
    }
   ],
   "source": [
    "docs[0].page_content.split(\"[销售回答] \")"
   ]
  },
  {
   "cell_type": "code",
   "execution_count": 46,
   "id": "bda8eb0c-eb1f-47b2-91ab-4c94ff71c3db",
   "metadata": {
    "ExecuteTime": {
     "end_time": "2024-07-24T08:56:30.839256Z",
     "start_time": "2024-07-24T08:56:30.833245Z"
    }
   },
   "outputs": [],
   "source": [
    "ans = docs[0].page_content.split(\"[销售回答] \")[-1]"
   ]
  },
  {
   "cell_type": "code",
   "execution_count": 47,
   "id": "917a3b6c-3149-42e2-b7b6-abebd94b7f72",
   "metadata": {
    "ExecuteTime": {
     "end_time": "2024-07-24T08:56:31.732665Z",
     "start_time": "2024-07-24T08:56:31.723666Z"
    }
   },
   "outputs": [
    {
     "data": {
      "text/plain": [
       "'夏天穿着以清凉舒适为主，我们有多款轻薄透气的衣服，比如亚麻衬衫、棉质T恤等，都非常适合夏日穿着。'"
      ]
     },
     "execution_count": 47,
     "metadata": {},
     "output_type": "execute_result"
    }
   ],
   "source": [
    "ans"
   ]
  },
  {
   "cell_type": "markdown",
   "id": "b36b61a5-156d-4546-bbd1-8a983e94676b",
   "metadata": {},
   "source": [
    "#### 尝试各种问题"
   ]
  },
  {
   "cell_type": "code",
   "execution_count": 48,
   "id": "c311a656-e571-45d6-8690-88e4be2c2a65",
   "metadata": {
    "ExecuteTime": {
     "end_time": "2024-07-24T08:56:40.653899Z",
     "start_time": "2024-07-24T08:56:40.647720Z"
    }
   },
   "outputs": [],
   "source": [
    "from typing import List\n",
    "\n",
    "def sales(query: str, score_threshold: float=0.8) -> List[str]:\n",
    "    retriever = db.as_retriever(search_type=\"similarity_score_threshold\", search_kwargs={\"score_threshold\": score_threshold})    \n",
    "    docs = retriever.get_relevant_documents(query)\n",
    "    ans_list = [doc.page_content.split(\"[销售回答] \")[-1] for doc in docs]\n",
    "\n",
    "    return ans_list"
   ]
  },
  {
   "cell_type": "code",
   "execution_count": 49,
   "id": "2f4c6c08-b97c-4727-9aa1-a474d85a11e4",
   "metadata": {
    "ExecuteTime": {
     "end_time": "2024-07-24T08:57:02.636664Z",
     "start_time": "2024-07-24T08:57:01.802239Z"
    }
   },
   "outputs": [
    {
     "name": "stdout",
     "output_type": "stream",
     "text": [
      "[]\n"
     ]
    },
    {
     "name": "stderr",
     "output_type": "stream",
     "text": [
      "D:\\000_application\\010_appList\\006_anaconda3\\envs\\langchain\\lib\\site-packages\\langchain_core\\vectorstores.py:342: UserWarning: No relevant docs were retrieved using the relevance score threshold 0.8\n",
      "  warnings.warn(\n"
     ]
    }
   ],
   "source": [
    "query = \"我想买厚一点的衣服\"\n",
    "\n",
    "print(sales(query))"
   ]
  },
  {
   "cell_type": "code",
   "execution_count": 50,
   "id": "11e3d8b6-839f-4b2f-b519-841e0271f95b",
   "metadata": {
    "ExecuteTime": {
     "end_time": "2024-07-24T08:57:10.748505Z",
     "start_time": "2024-07-24T08:57:10.009793Z"
    }
   },
   "outputs": [
    {
     "name": "stdout",
     "output_type": "stream",
     "text": [
      "[]\n"
     ]
    },
    {
     "name": "stderr",
     "output_type": "stream",
     "text": [
      "D:\\000_application\\010_appList\\006_anaconda3\\envs\\langchain\\lib\\site-packages\\langchain_core\\vectorstores.py:342: UserWarning: No relevant docs were retrieved using the relevance score threshold 0.8\n",
      "  warnings.warn(\n"
     ]
    }
   ],
   "source": [
    "print(sales(query, 0.8))"
   ]
  },
  {
   "cell_type": "code",
   "execution_count": 51,
   "id": "fc5b030a-ae6f-4d42-9577-1420c78aecb1",
   "metadata": {
    "ExecuteTime": {
     "end_time": "2024-07-24T08:57:32.858364Z",
     "start_time": "2024-07-24T08:57:31.233392Z"
    }
   },
   "outputs": [
    {
     "name": "stderr",
     "output_type": "stream",
     "text": [
      "D:\\000_application\\010_appList\\006_anaconda3\\envs\\langchain\\lib\\site-packages\\langchain_core\\vectorstores.py:342: UserWarning: No relevant docs were retrieved using the relevance score threshold 0.8\n",
      "  warnings.warn(\n"
     ]
    },
    {
     "name": "stdout",
     "output_type": "stream",
     "text": [
      "score:0.8 ans: []\n",
      "\n",
      "score:0.75 ans: ['夏天穿着以清凉舒适为主，我们有多款轻薄透气的衣服，比如亚麻衬衫、棉质T恤等，都非常适合夏日穿着。', '我们有很多适合约会穿着的时尚款式，无论是优雅的连衣裙还是时尚的休闲装，都可以让您在约会中散发魅力。', '我们有多款适合冬天的保暖衣服，比如羊毛衫、羽绒服等，它们不仅保暖性强，而且款式多样，可以满足您的不同需求。', '[顾客提问]这件衣服适合什么季节穿？\\n[销售回答]这款衣服的设计非常贴心，它采用了轻薄透气的面料，适合春秋季节穿着。无论是单穿还是作为内搭，都能轻松应对多变的天气。而且，它的颜色和设计都非常经典百搭，即使到了冬季，搭配一件外套也能让您时尚过冬。所以，无论您是哪个季节来选购，它都是个不错的选择哦。']\n",
      "\n",
      "score:0.5 ans: ['夏天穿着以清凉舒适为主，我们有多款轻薄透气的衣服，比如亚麻衬衫、棉质T恤等，都非常适合夏日穿着。', '我们有很多适合约会穿着的时尚款式，无论是优雅的连衣裙还是时尚的休闲装，都可以让您在约会中散发魅力。', '我们有多款适合冬天的保暖衣服，比如羊毛衫、羽绒服等，它们不仅保暖性强，而且款式多样，可以满足您的不同需求。', '[顾客提问]这件衣服适合什么季节穿？\\n[销售回答]这款衣服的设计非常贴心，它采用了轻薄透气的面料，适合春秋季节穿着。无论是单穿还是作为内搭，都能轻松应对多变的天气。而且，它的颜色和设计都非常经典百搭，即使到了冬季，搭配一件外套也能让您时尚过冬。所以，无论您是哪个季节来选购，它都是个不错的选择哦。']\n",
      "\n"
     ]
    }
   ],
   "source": [
    "query = \"我想买春天穿的衣服\"\n",
    "\n",
    "print(f\"score:0.8 ans: {sales(query)}\\n\")\n",
    "print(f\"score:0.75 ans: {sales(query, 0.75)}\\n\")\n",
    "print(f\"score:0.5 ans: {sales(query, 0.5)}\\n\")"
   ]
  },
  {
   "cell_type": "markdown",
   "id": "9e26e6d7-259b-4ecf-9c72-027befba4e3b",
   "metadata": {},
   "source": [
    "#### 当向量数据库中没有合适答案时，使用大语言模型能力"
   ]
  },
  {
   "cell_type": "code",
   "execution_count": 52,
   "id": "9142feb4-980a-4142-b367-1401021dceef",
   "metadata": {
    "ExecuteTime": {
     "end_time": "2024-07-24T08:57:49.906787Z",
     "start_time": "2024-07-24T08:57:49.527532Z"
    }
   },
   "outputs": [],
   "source": [
    "from langchain.chains import RetrievalQA\n",
    "from langchain_openai import ChatOpenAI\n",
    "\n",
    "llm = ChatOpenAI(model_name=\"gpt-4-1106-preview\", temperature=0.5)\n",
    "qa_chain = RetrievalQA.from_chain_type(llm,\n",
    "                                       retriever=db.as_retriever(search_type=\"similarity_score_threshold\",\n",
    "                                                                 search_kwargs={\"score_threshold\": 0.8}))"
   ]
  },
  {
   "cell_type": "code",
   "execution_count": 53,
   "id": "d281b560-54bb-4a25-a1dc-b23874361654",
   "metadata": {},
   "outputs": [
    {
     "name": "stderr",
     "output_type": "stream",
     "text": [
      "D:\\000_application\\010_appList\\006_anaconda3\\envs\\langchain\\lib\\site-packages\\langchain_core\\_api\\deprecation.py:119: LangChainDeprecationWarning: The method `Chain.__call__` was deprecated in langchain 0.1.0 and will be removed in 0.3.0. Use invoke instead.\n",
      "  warn_deprecated(\n",
      "D:\\000_application\\010_appList\\006_anaconda3\\envs\\langchain\\lib\\site-packages\\langchain_core\\vectorstores.py:342: UserWarning: No relevant docs were retrieved using the relevance score threshold 0.8\n",
      "  warnings.warn(\n"
     ]
    },
    {
     "data": {
      "text/plain": [
       "{'query': '有没有蚕丝做的衣服？',\n",
       " 'result': '蚕丝是一种古老且奢华的纺织材料，常用来制作各种服装。市面上确实有使用蚕丝制成的衣服，包括但不限于丝绸衬衫、裙子、睡衣、领带、围巾等。蚕丝衣物通常具有良好的透气性、柔软度和光泽，是高品质服装的选择之一。如果你在寻找蚕丝衣服，可以在服装店、奢侈品店或者在线零售商那里找到。'}"
      ]
     },
     "execution_count": 53,
     "metadata": {},
     "output_type": "execute_result"
    }
   ],
   "source": [
    "qa_chain({\"query\": \"有没有蚕丝做的衣服？\"})"
   ]
  },
  {
   "cell_type": "code",
   "execution_count": 54,
   "id": "c6a30dcc-fa6b-4282-935c-b07902746e19",
   "metadata": {},
   "outputs": [
    {
     "name": "stderr",
     "output_type": "stream",
     "text": [
      "D:\\000_application\\010_appList\\006_anaconda3\\envs\\langchain\\lib\\site-packages\\langchain_core\\vectorstores.py:342: UserWarning: No relevant docs were retrieved using the relevance score threshold 0.8\n",
      "  warnings.warn(\n"
     ]
    },
    {
     "data": {
      "text/plain": [
       "{'query': '我穿衬衫好看吗？',\n",
       " 'result': '由于我无法看到你或你穿的衬衫，我无法判断你穿衬衫是否好看。通常来说，如果衬衫的款式、颜色和尺码适合你，且搭配得当，你穿衬衫应该会很好看。重要的是选择适合自己身型和风格的衣服，并穿着自信。'}"
      ]
     },
     "execution_count": 54,
     "metadata": {},
     "output_type": "execute_result"
    }
   ],
   "source": [
    "qa_chain({\"query\": \"我穿衬衫好看吗？\"})"
   ]
  },
  {
   "cell_type": "code",
   "execution_count": null,
   "id": "9764bb10-44ed-47c9-a351-a68f4f7d4f44",
   "metadata": {},
   "outputs": [],
   "source": []
  },
  {
   "cell_type": "markdown",
   "id": "0a0647e8-5b41-4c93-87c2-3240ec558717",
   "metadata": {},
   "source": [
    "## 加载 FAISS 向量数据库已有结果"
   ]
  },
  {
   "cell_type": "code",
   "execution_count": 55,
   "id": "913edd04-37ea-4c3f-9346-086aeb0ab447",
   "metadata": {},
   "outputs": [],
   "source": [
    "from langchain_openai import OpenAIEmbeddings\n",
    "from langchain.vectorstores import FAISS\n",
    "\n",
    "db = FAISS.load_local(\"real_estates_sale\", OpenAIEmbeddings(), allow_dangerous_deserialization=True)"
   ]
  },
  {
   "cell_type": "code",
   "execution_count": 56,
   "id": "77d8eee4-6383-4b4a-9737-95ea9fc53b87",
   "metadata": {},
   "outputs": [
    {
     "name": "stderr",
     "output_type": "stream",
     "text": [
      "D:\\000_application\\010_appList\\006_anaconda3\\envs\\langchain\\lib\\site-packages\\langchain_core\\_api\\deprecation.py:119: LangChainDeprecationWarning: The class `ChatOpenAI` was deprecated in LangChain 0.0.10 and will be removed in 0.3.0. An updated version of the class exists in the langchain-openai package and should be used instead. To use it run `pip install -U langchain-openai` and import as `from langchain_openai import ChatOpenAI`.\n",
      "  warn_deprecated(\n"
     ]
    }
   ],
   "source": [
    "from langchain.chains import RetrievalQA\n",
    "from langchain.chat_models import ChatOpenAI\n",
    "\n",
    "llm = ChatOpenAI(model_name=\"gpt-4\", temperature=0.5)\n",
    "qa_chain = RetrievalQA.from_chain_type(llm,\n",
    "                                       retriever=db.as_retriever(search_type=\"similarity_score_threshold\",\n",
    "                                                                 search_kwargs={\"score_threshold\": 0.8}))"
   ]
  },
  {
   "cell_type": "code",
   "execution_count": 57,
   "id": "5dfac197-cadb-47d7-8cbe-1b07a83fc8e1",
   "metadata": {},
   "outputs": [
    {
     "name": "stderr",
     "output_type": "stream",
     "text": [
      "D:\\000_application\\010_appList\\006_anaconda3\\envs\\langchain\\lib\\site-packages\\langchain_core\\vectorstores.py:342: UserWarning: No relevant docs were retrieved using the relevance score threshold 0.8\n",
      "  warnings.warn(\n"
     ]
    },
    {
     "data": {
      "text/plain": [
       "{'query': '我想买裤子，你们有么', 'result': '对不起，作为一个AI，我无法销售任何商品。我只能提供信息和帮助。'}"
      ]
     },
     "execution_count": 57,
     "metadata": {},
     "output_type": "execute_result"
    }
   ],
   "source": [
    "qa_chain({\"query\": \"我想买裤子，你们有么\"})"
   ]
  },
  {
   "cell_type": "code",
   "execution_count": 58,
   "id": "e5fb0943-ffe9-4270-8dbe-f5f5314e6042",
   "metadata": {},
   "outputs": [],
   "source": [
    "# 返回向量数据库的检索结果\n",
    "qa_chain.return_source_documents = True"
   ]
  },
  {
   "cell_type": "code",
   "execution_count": 59,
   "id": "fbc1741e-d34f-4df5-874b-02b78e8cd67a",
   "metadata": {},
   "outputs": [
    {
     "name": "stderr",
     "output_type": "stream",
     "text": [
      "D:\\000_application\\010_appList\\006_anaconda3\\envs\\langchain\\lib\\site-packages\\langchain_core\\vectorstores.py:342: UserWarning: No relevant docs were retrieved using the relevance score threshold 0.8\n",
      "  warnings.warn(\n"
     ]
    }
   ],
   "source": [
    "result = qa_chain({\"query\": \"我想买别墅，你们有么\"})"
   ]
  },
  {
   "cell_type": "code",
   "execution_count": 60,
   "id": "fac8309c-033c-4144-ada0-08e74fa9bf2d",
   "metadata": {},
   "outputs": [
    {
     "data": {
      "text/plain": [
       "{'query': '我想买别墅，你们有么',\n",
       " 'result': '对不起，我不能帮助您购买别墅。我是一个人工智能，主要用于提供信息和回答问题。',\n",
       " 'source_documents': []}"
      ]
     },
     "execution_count": 60,
     "metadata": {},
     "output_type": "execute_result"
    }
   ],
   "source": [
    "result"
   ]
  },
  {
   "cell_type": "code",
   "execution_count": null,
   "id": "37de84df-999f-4469-9bbe-de9c95c6f6b3",
   "metadata": {},
   "outputs": [],
   "source": []
  }
 ],
 "metadata": {
  "kernelspec": {
   "display_name": "Python 3 (ipykernel)",
   "language": "python",
   "name": "python3"
  },
  "language_info": {
   "codemirror_mode": {
    "name": "ipython",
    "version": 3
   },
   "file_extension": ".py",
   "mimetype": "text/x-python",
   "name": "python",
   "nbconvert_exporter": "python",
   "pygments_lexer": "ipython3",
   "version": "3.10.14"
  }
 },
 "nbformat": 4,
 "nbformat_minor": 5
}
